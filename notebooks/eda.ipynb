{
 "cells": [
  {
   "cell_type": "code",
   "execution_count": null,
   "id": "8cd599b7",
   "metadata": {},
   "outputs": [],
   "source": [
    "from pathlib import Path\n",
    "\n",
    "import numpy as np\n",
    "import pandas as pd\n",
    "\n",
    "DATASET = Path(\"../data/auto-mpg.data\")\n",
    "\n",
    "# Define column names for the dataset\n",
    "column_names = ['mpg', 'cylinders', 'displacement', 'horsepower', \n",
    "                'weight', 'acceleration', 'model_year', 'origin', 'car_name']\n",
    "\n",
    "# Load the dataset with custom column names and proper delimiter\n",
    "cars = pd.read_csv(DATASET, delim_whitespace=True, names=column_names, na_values='?')\n",
    "\n",
    "# Display the first few rows\n",
    "cars.head()"
   ]
  },
  {
   "cell_type": "code",
   "execution_count": null,
   "id": "bf53a370",
   "metadata": {},
   "outputs": [],
   "source": [
    "# Get summary statistics for all features in the dataset\n",
    "cars.describe(include=\"all\")\n"
   ]
  },
  {
   "cell_type": "markdown",
   "id": "84265974",
   "metadata": {},
   "source": [
    "The vast majority of cars have 4 cylinders (204), with 8 cylinders (103) and 6 cylinders (84) also being common\n",
    "The model years are distributed across 1970-1982, with 1973 having the most cars (40)\n",
    "American cars make up the majority of the dataset (249), with Japanese (79) and European (70) cars representing smaller portions"
   ]
  },
  {
   "cell_type": "code",
   "execution_count": null,
   "id": "c4e572e2",
   "metadata": {},
   "outputs": [],
   "source": [
    "# Let's display the distribution of categorical columns in our data\n",
    "# For auto-mpg, categorical columns would be cylinders, model_year, and origin\n",
    "\n",
    "# First, convert origin to categorical values (1=USA, 2=Europe, 3=Japan)\n",
    "cars['origin'] = cars['origin'].astype(int).map({1: 'USA', 2: 'Europe', 3: 'Japan'})\n",
    "\n",
    "# Get the distributions\n",
    "cylinders_distribution = cars[\"cylinders\"].value_counts().sort_index()\n",
    "model_year_distribution = cars[\"model_year\"].value_counts().sort_index()\n",
    "origin_distribution = cars[\"origin\"].value_counts()\n",
    "\n",
    "# Display the distributions\n",
    "print(\"Distribution of cylinders:\")\n",
    "print(cylinders_distribution, end=\"\\n\\n\")\n",
    "\n",
    "print(\"Distribution of model years:\")\n",
    "print(model_year_distribution, end=\"\\n\\n\")\n",
    "\n",
    "print(\"Distribution of car origins:\")\n",
    "print(origin_distribution)"
   ]
  },
  {
   "cell_type": "code",
   "execution_count": null,
   "id": "b750a286",
   "metadata": {},
   "outputs": [],
   "source": [
    "# Replace any '?' with NaN in the horsepower column\n",
    "cars[\"horsepower\"] = cars[\"horsepower\"].replace(\"?\", np.nan)\n",
    "\n",
    "# Convert horsepower to numeric type\n",
    "cars[\"horsepower\"] = pd.to_numeric(cars[\"horsepower\"])\n",
    "\n",
    "# Let's display the distribution of the horsepower column\n",
    "print(cars[\"horsepower\"].describe())\n",
    "\n",
    "# Check for missing values\n",
    "print(\"\\nNumber of missing horsepower values:\", cars[\"horsepower\"].isna().sum())"
   ]
  },
  {
   "cell_type": "code",
   "execution_count": null,
   "id": "72ad98f6",
   "metadata": {},
   "outputs": [],
   "source": [
    "# Check for missing values across all columns\n",
    "cars.isna().sum()"
   ]
  },
  {
   "cell_type": "code",
   "execution_count": null,
   "id": "ad5517e9",
   "metadata": {},
   "outputs": [],
   "source": [
    "from sklearn.impute import SimpleImputer\n",
    "\n",
    "# For numeric columns, using the median is often better than most_frequent\n",
    "numeric_cols = cars.select_dtypes(include=['float64', 'int64']).columns\n",
    "numeric_imputer = SimpleImputer(strategy=\"median\")\n",
    "cars[numeric_cols] = numeric_imputer.fit_transform(cars[numeric_cols])\n",
    "\n",
    "# For categorical columns, use most_frequent\n",
    "categorical_cols = cars.select_dtypes(include=['object']).columns\n",
    "if len(categorical_cols) > 0:\n",
    "    categorical_imputer = SimpleImputer(strategy=\"most_frequent\")\n",
    "    cars[categorical_cols] = categorical_imputer.fit_transform(cars[categorical_cols])\n",
    "\n",
    "# Let's display again the number of missing values:\n",
    "cars.isna().sum()"
   ]
  },
  {
   "cell_type": "code",
   "execution_count": null,
   "id": "be515c69",
   "metadata": {},
   "outputs": [],
   "source": [
    "import matplotlib.pyplot as plt\n",
    "\n",
    "fig, axs = plt.subplots(3, 1, figsize=(8, 12))\n",
    "\n",
    "# Visualize distribution of cylinders\n",
    "axs[0].bar(cylinders_distribution.index, cylinders_distribution.values)\n",
    "axs[0].set_xlabel(\"Number of Cylinders\")\n",
    "axs[0].set_ylabel(\"Count\")\n",
    "axs[0].set_title(\"Distribution of Cylinders\")\n",
    "\n",
    "# Visualize distribution of origins\n",
    "axs[1].bar(origin_distribution.index, origin_distribution.values)\n",
    "axs[1].set_xlabel(\"Country of Origin\")\n",
    "axs[1].set_ylabel(\"Count\")\n",
    "axs[1].set_title(\"Distribution of Car Origins\")\n",
    "\n",
    "# Visualize distribution of model years\n",
    "axs[2].bar(model_year_distribution.index, model_year_distribution.values)\n",
    "axs[2].set_xlabel(\"Model Year\")\n",
    "axs[2].set_ylabel(\"Count\")\n",
    "axs[2].set_title(\"Distribution of Model Years\")\n",
    "\n",
    "plt.tight_layout()\n",
    "plt.show()"
   ]
  },
  {
   "cell_type": "code",
   "execution_count": null,
   "id": "d3bdb77a",
   "metadata": {},
   "outputs": [],
   "source": [
    "fig, axs = plt.subplots(2, 2, figsize=(10, 8))\n",
    "\n",
    "# MPG distribution\n",
    "axs[0, 0].hist(cars[\"mpg\"], bins=20, color='skyblue', edgecolor='black')\n",
    "axs[0, 0].set_xlabel(\"Miles Per Gallon\")\n",
    "axs[0, 0].set_ylabel(\"Count\")\n",
    "axs[0, 0].set_title(\"Distribution of MPG\")\n",
    "\n",
    "# Displacement distribution\n",
    "axs[0, 1].hist(cars[\"displacement\"], bins=20, color='skyblue', edgecolor='black')\n",
    "axs[0, 1].set_xlabel(\"Displacement (cu. inches)\")\n",
    "axs[0, 1].set_ylabel(\"Count\")\n",
    "axs[0, 1].set_title(\"Distribution of Displacement\")\n",
    "\n",
    "# Horsepower distribution\n",
    "axs[1, 0].hist(cars[\"horsepower\"], bins=20, color='skyblue', edgecolor='black')\n",
    "axs[1, 0].set_xlabel(\"Horsepower\")\n",
    "axs[1, 0].set_ylabel(\"Count\")\n",
    "axs[1, 0].set_title(\"Distribution of Horsepower\")\n",
    "\n",
    "# Weight distribution\n",
    "axs[1, 1].hist(cars[\"weight\"], bins=20, color='skyblue', edgecolor='black')\n",
    "axs[1, 1].set_xlabel(\"Weight (lbs)\")\n",
    "axs[1, 1].set_ylabel(\"Count\")\n",
    "axs[1, 1].set_title(\"Distribution of Weight\")\n",
    "\n",
    "plt.tight_layout()\n",
    "plt.show()\n",
    "\n",
    "# Create a separate plot for acceleration\n",
    "plt.figure(figsize=(8, 5))\n",
    "plt.hist(cars[\"acceleration\"], bins=20, color='skyblue', edgecolor='black')\n",
    "plt.xlabel(\"Acceleration (sec to reach 60mph)\")\n",
    "plt.ylabel(\"Count\")\n",
    "plt.title(\"Distribution of Acceleration\")\n",
    "plt.tight_layout()\n",
    "plt.show()"
   ]
  },
  {
   "cell_type": "markdown",
   "id": "9b9cc700",
   "metadata": {},
   "source": [
    "MPG and Weight: \n",
    "There's a strong negative covariance (approximately -5505) between MPG and weight. This indicates that heavier cars tend to have lower fuel efficiency, which aligns with physical principles - more mass requires more energy to move.\n",
    "MPG and Displacement/Cylinders/Horsepower: \n",
    "There are negative covariances between MPG and engine characteristics (displacement around -655, cylinders around -10, horsepower around -231). This confirms that cars with larger, more powerful engines tend to consume more fuel.\n",
    "Horsepower and Displacement: \n",
    "There's a strong positive covariance (around 3570) between horsepower and displacement, showing that engines with larger displacement tend to produce more power.\n",
    "Weight and Displacement/Horsepower: \n",
    "High positive covariance values (around 82368 for displacement and 27915 for horsepower) indicate that heavier cars tend to have larger, more powerful engines.\n",
    "MPG and Model Year: \n",
    "There's a positive covariance (around 16.7) between MPG and model year, suggesting that fuel efficiency improved over time, likely due to advancing technology and stricter regulations.\n",
    "MPG and Acceleration: \n",
    "The positive covariance (around 9) between MPG and acceleration time might seem counterintuitive, but it indicates that cars with higher MPG tend to have higher acceleration times (slower acceleration), reflecting the trade-off between performance and efficiency.\n",
    "\n",
    "These covariance patterns reveal the fundamental engineering trade-offs in automotive design during this period, particularly the balance between power, weight, and fuel economy.RetryClaude can make mistakes. "
   ]
  },
  {
   "cell_type": "code",
   "execution_count": null,
   "id": "10ebe79e",
   "metadata": {},
   "outputs": [],
   "source": [
    "# Calculate the covariance matrix for numeric columns\n",
    "cars_numeric = cars.select_dtypes(include=['float64', 'int64'])\n",
    "covariance_matrix = cars_numeric.cov()\n",
    "\n",
    "# Display the covariance matrix\n",
    "covariance_matrix"
   ]
  },
  {
   "cell_type": "markdown",
   "id": "19b1ab81",
   "metadata": {},
   "source": [
    "MPG and Weight (-0.83): This strong negative correlation confirms that heavier cars consistently have lower fuel efficiency. Weight appears to be the strongest negative predictor of MPG in the dataset.\n",
    "MPG and Displacement (-0.80): Another strong negative correlation showing that cars with larger engines (higher displacement) typically achieve fewer miles per gallon.\n",
    "MPG and Cylinders/Horsepower (both around -0.77): Strong negative correlations indicating that more cylinders and higher horsepower are associated with lower fuel economy, as expected.\n",
    "MPG and Model Year (+0.58): A moderate positive correlation that confirms fuel efficiency improved over time during the 1970s and early 1980s. This likely reflects advancements in automotive technology and stricter emissions/fuel economy regulations.\n",
    "MPG and Acceleration (+0.42): A moderate positive correlation showing that cars with higher MPG tend to have longer acceleration times (slower acceleration), representing the trade-off between performance and efficiency.\n",
    "Displacement and Cylinders (+0.95): An extremely strong correlation indicating that these two variables capture very similar information - more cylinders typically mean larger engine displacement.\n",
    "Weight and Displacement (+0.93): Very strong correlation showing heavier cars almost always have larger engines.\n",
    "Horsepower and Displacement/Weight/Cylinders (all above +0.84): Strong correlations confirming that powerful cars tend to have larger engines with more cylinders and greater weight.\n",
    "Acceleration and Horsepower (-0.69): A strong negative correlation showing that cars with more horsepower accelerate faster (lower acceleration time).\n",
    "\n",
    "These correlations reveal important insights for modeling:\n",
    "\n",
    "The strongest predictors of MPG are weight, displacement, cylinders, and horsepower (all negatively correlated).\n",
    "There's significant multicollinearity among engine features (displacement, cylinders, horsepower) that could affect model stability.\n",
    "The positive trend in MPG over model years suggests technological improvements over time.\n",
    "The data confirms basic automotive engineering principles about the relationships between weight, power, and fuel efficiency.\n",
    "\n",
    "When building your prediction model, you may need to consider feature selection or dimensionality reduction techniques to address the multicollinearity among predictors.RetryClaude can make mistakes. Please double-check responses."
   ]
  },
  {
   "cell_type": "code",
   "execution_count": null,
   "id": "d13e8f75",
   "metadata": {},
   "outputs": [],
   "source": [
    "# Calculate the correlation matrix for numeric columns\n",
    "correlation_matrix = cars_numeric.corr()\n",
    "\n",
    "# Display the correlation matrix\n",
    "correlation_matrix"
   ]
  },
  {
   "cell_type": "code",
   "execution_count": null,
   "id": "4af4bffa",
   "metadata": {},
   "outputs": [],
   "source": [
    "unique_cylinders = cars[\"cylinders\"].unique()\n",
    "\n",
    "fig, ax = plt.subplots(figsize=(10, 6))\n",
    "for cylinder in sorted(unique_cylinders):\n",
    "    data = cars[cars[\"cylinders\"] == cylinder]\n",
    "    ax.hist(data[\"origin\"], bins=3, alpha=0.5, label=f\"{cylinder} cylinders\")\n",
    "\n",
    "ax.set_xlabel(\"Origin\")\n",
    "ax.set_ylabel(\"Count\")\n",
    "ax.set_title(\"Distribution of Car Origins by Cylinder Count\")\n",
    "ax.legend()\n",
    "plt.show()"
   ]
  },
  {
   "cell_type": "code",
   "execution_count": null,
   "id": "0913dee8",
   "metadata": {},
   "outputs": [],
   "source": [
    "fig, ax = plt.subplots(figsize=(10, 6))\n",
    "\n",
    "for origin in cars[\"origin\"].unique():\n",
    "    data = cars[cars[\"origin\"] == origin]\n",
    "    ax.hist(data[\"model_year\"], bins=len(cars[\"model_year\"].unique()), alpha=0.5, label=origin)\n",
    "\n",
    "ax.set_xlabel(\"Model Year\")\n",
    "ax.set_ylabel(\"Count\")\n",
    "ax.set_title(\"Distribution of Car Origins by Model Year\")\n",
    "\n",
    "ax.legend()\n",
    "plt.show()"
   ]
  },
  {
   "cell_type": "code",
   "execution_count": null,
   "id": "9c54875e",
   "metadata": {},
   "outputs": [],
   "source": [
    "fig, ax = plt.subplots(figsize=(10, 6))\n",
    "\n",
    "for cyl in sorted(cars[\"cylinders\"].unique()):\n",
    "    data = cars[cars[\"cylinders\"] == cyl]\n",
    "    ax.hist(data[\"mpg\"], bins=20, alpha=0.5, label=f\"{cyl} cylinders\")\n",
    "\n",
    "ax.set_xlabel(\"MPG\")\n",
    "ax.set_ylabel(\"Count\")\n",
    "ax.set_title(\"Distribution of MPG by Number of Cylinders\")\n",
    "ax.legend()\n",
    "plt.show()"
   ]
  },
  {
   "cell_type": "code",
   "execution_count": null,
   "id": "554ac6f9",
   "metadata": {},
   "outputs": [],
   "source": [
    "fig, ax = plt.subplots(figsize=(10, 6))\n",
    "\n",
    "for origin in cars[\"origin\"].unique():\n",
    "    data = cars[cars[\"origin\"] == origin]\n",
    "    ax.hist(data[\"horsepower\"], bins=20, alpha=0.5, label=origin)\n",
    "\n",
    "ax.set_xlabel(\"Horsepower\")\n",
    "ax.set_ylabel(\"Count\")\n",
    "ax.set_title(\"Distribution of Horsepower by Origin\")\n",
    "ax.legend()\n",
    "plt.show()"
   ]
  },
  {
   "cell_type": "code",
   "execution_count": null,
   "id": "b8277efb",
   "metadata": {},
   "outputs": [],
   "source": [
    "fig, ax = plt.subplots(figsize=(10, 6))\n",
    "\n",
    "for origin in cars[\"origin\"].unique():\n",
    "    data = cars[cars[\"origin\"] == origin]\n",
    "    ax.hist(data[\"weight\"], bins=20, alpha=0.5, label=origin)\n",
    "\n",
    "ax.set_xlabel(\"Weight (lbs)\")\n",
    "ax.set_ylabel(\"Count\")\n",
    "ax.set_title(\"Distribution of Car Weight by Origin\")\n",
    "ax.legend()\n",
    "plt.show()"
   ]
  },
  {
   "cell_type": "code",
   "execution_count": null,
   "id": "f1fec9a0",
   "metadata": {},
   "outputs": [],
   "source": [
    "fig, ax = plt.subplots(figsize=(12, 6))\n",
    "\n",
    "for origin in cars[\"origin\"].unique():\n",
    "    data = cars[cars[\"origin\"] == origin]\n",
    "    yearly_avg = data.groupby(\"model_year\")[\"mpg\"].mean()\n",
    "    ax.plot(yearly_avg.index, yearly_avg.values, marker='o', linestyle='-', label=origin)\n",
    "\n",
    "ax.set_xlabel(\"Model Year\")\n",
    "ax.set_ylabel(\"Average MPG\")\n",
    "ax.set_title(\"Average MPG by Model Year and Origin\")\n",
    "ax.grid(True, alpha=0.3)\n",
    "ax.legend()\n",
    "plt.show()"
   ]
  },
  {
   "cell_type": "code",
   "execution_count": null,
   "id": "e4416420",
   "metadata": {},
   "outputs": [],
   "source": [
    "fig, ax = plt.subplots(figsize=(10, 6))\n",
    "\n",
    "for cyl in sorted(cars[\"cylinders\"].unique()):\n",
    "    data = cars[cars[\"cylinders\"] == cyl]\n",
    "    ax.hist(data[\"acceleration\"], bins=15, alpha=0.5, label=f\"{cyl} cylinders\")\n",
    "\n",
    "ax.set_xlabel(\"Acceleration (sec to reach 60mph)\")\n",
    "ax.set_ylabel(\"Count\")\n",
    "ax.set_title(\"Distribution of Acceleration by Number of Cylinders\")\n",
    "ax.legend()\n",
    "plt.show()"
   ]
  }
 ],
 "metadata": {
  "kernelspec": {
   "display_name": "myenv",
   "language": "python",
   "name": "python3"
  },
  "language_info": {
   "codemirror_mode": {
    "name": "ipython",
    "version": 3
   },
   "file_extension": ".py",
   "mimetype": "text/x-python",
   "name": "python",
   "nbconvert_exporter": "python",
   "pygments_lexer": "ipython3",
   "version": "3.12.7"
  }
 },
 "nbformat": 4,
 "nbformat_minor": 5
}
